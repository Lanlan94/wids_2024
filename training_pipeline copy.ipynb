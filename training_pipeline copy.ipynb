{
 "cells": [
  {
   "cell_type": "code",
   "execution_count": 1,
   "metadata": {},
   "outputs": [],
   "source": [
    "import pandas as pd\n",
    "import src.utils as utils"
   ]
  },
  {
   "cell_type": "markdown",
   "metadata": {},
   "source": [
    "## Read config"
   ]
  },
  {
   "cell_type": "code",
   "execution_count": null,
   "metadata": {},
   "outputs": [],
   "source": []
  },
  {
   "cell_type": "markdown",
   "metadata": {},
   "source": [
    "## Load the data"
   ]
  },
  {
   "cell_type": "code",
   "execution_count": 4,
   "metadata": {},
   "outputs": [],
   "source": [
    "\n",
    "data = utils.load_data('data/training.csv')\n",
    "data = data.drop(['patient_id','patient_gender'],axis=1)"
   ]
  },
  {
   "cell_type": "code",
   "execution_count": null,
   "metadata": {},
   "outputs": [],
   "source": []
  },
  {
   "cell_type": "markdown",
   "metadata": {},
   "source": [
    "## Preprocessing"
   ]
  },
  {
   "cell_type": "code",
   "execution_count": null,
   "metadata": {},
   "outputs": [],
   "source": []
  },
  {
   "cell_type": "code",
   "execution_count": 5,
   "metadata": {},
   "outputs": [],
   "source": [
    "import src.data_preprocessing as prep\n",
    "    \n",
    "X_train, X_test, y_train, y_test = prep.split_data(data)\n",
    "\n",
    "cat_features = X_train.select_dtypes(include=['object', 'category']).columns\n",
    "num_features = X_train.select_dtypes(include=['float64', 'int64']).columns\n",
    "\n",
    "filler = prep.get_fill_for_na(X_train, cat_features, fill_strategy='mode')\n",
    "filler.update(prep.get_fill_for_na(X_train, num_features, fill_strategy='mean'))\n",
    "\n",
    "for c in X_train.columns:\n",
    "    X_train[c].fillna(filler[c],inplace=True)\n",
    "    X_test[c].fillna(filler[c],inplace=True)"
   ]
  },
  {
   "cell_type": "markdown",
   "metadata": {},
   "source": [
    "## Training"
   ]
  },
  {
   "cell_type": "code",
   "execution_count": 6,
   "metadata": {},
   "outputs": [
    {
     "name": "stderr",
     "output_type": "stream",
     "text": [
      "/Library/Frameworks/Python.framework/Versions/3.10/lib/python3.10/site-packages/catboost/core.py:1419: FutureWarning: iteritems is deprecated and will be removed in a future version. Use .items instead.\n",
      "  self._init_pool(data, label, cat_features, text_features, embedding_features, embedding_features_data, pairs, weight,\n"
     ]
    },
    {
     "name": "stdout",
     "output_type": "stream",
     "text": [
      "Learning rate set to 0.056407\n",
      "0:\tlearn: 0.6665962\ttest: 0.6658559\tbest: 0.6658559 (0)\ttotal: 149ms\tremaining: 2m 29s\n",
      "100:\tlearn: 0.4493351\ttest: 0.4630768\tbest: 0.4628633 (86)\ttotal: 5.36s\tremaining: 47.7s\n",
      "200:\tlearn: 0.4277497\ttest: 0.4623088\tbest: 0.4620586 (158)\ttotal: 9.76s\tremaining: 38.8s\n",
      "300:\tlearn: 0.4078392\ttest: 0.4630826\tbest: 0.4620175 (217)\ttotal: 14.5s\tremaining: 33.7s\n",
      "400:\tlearn: 0.3903937\ttest: 0.4638073\tbest: 0.4620175 (217)\ttotal: 18.4s\tremaining: 27.5s\n",
      "500:\tlearn: 0.3746060\ttest: 0.4647873\tbest: 0.4620175 (217)\ttotal: 23.9s\tremaining: 23.8s\n",
      "600:\tlearn: 0.3616640\ttest: 0.4662390\tbest: 0.4620175 (217)\ttotal: 28s\tremaining: 18.6s\n",
      "700:\tlearn: 0.3488693\ttest: 0.4669356\tbest: 0.4620175 (217)\ttotal: 32.5s\tremaining: 13.9s\n",
      "800:\tlearn: 0.3363025\ttest: 0.4694454\tbest: 0.4620175 (217)\ttotal: 36.9s\tremaining: 9.17s\n",
      "900:\tlearn: 0.3238301\ttest: 0.4706260\tbest: 0.4620175 (217)\ttotal: 41.3s\tremaining: 4.54s\n",
      "999:\tlearn: 0.3132417\ttest: 0.4725280\tbest: 0.4620175 (217)\ttotal: 45.9s\tremaining: 0us\n",
      "\n",
      "bestTest = 0.4620175024\n",
      "bestIteration = 217\n",
      "\n",
      "Shrink model to first 218 iterations.\n"
     ]
    },
    {
     "data": {
      "text/plain": [
       "<catboost.core.CatBoostClassifier at 0x11b345c00>"
      ]
     },
     "execution_count": 6,
     "metadata": {},
     "output_type": "execute_result"
    }
   ],
   "source": [
    "from catboost import CatBoostClassifier\n",
    "\n",
    "\n",
    "cat_model = CatBoostClassifier(\n",
    "    #custom_loss=[\"AUC\"],\n",
    "    cat_features=cat_features.values,\n",
    "    use_best_model=True,\n",
    "    random_state=42,\n",
    "    verbose=100,    \n",
    ")\n",
    "cat_model.fit(X_train, y_train, eval_set=(X_test, y_test))"
   ]
  },
  {
   "cell_type": "code",
   "execution_count": 9,
   "metadata": {},
   "outputs": [
    {
     "name": "stderr",
     "output_type": "stream",
     "text": [
      "/Library/Frameworks/Python.framework/Versions/3.10/lib/python3.10/site-packages/catboost/core.py:1419: FutureWarning: iteritems is deprecated and will be removed in a future version. Use .items instead.\n",
      "  self._init_pool(data, label, cat_features, text_features, embedding_features, embedding_features_data, pairs, weight,\n"
     ]
    },
    {
     "data": {
      "text/plain": [
       "array([1, 1, 1, ..., 0, 1, 0])"
      ]
     },
     "execution_count": 9,
     "metadata": {},
     "output_type": "execute_result"
    }
   ],
   "source": [
    "y_pred = cat_model.predict(X_test)\n",
    "y_pred"
   ]
  },
  {
   "cell_type": "markdown",
   "metadata": {},
   "source": [
    "## Evaluation"
   ]
  },
  {
   "cell_type": "code",
   "execution_count": 23,
   "metadata": {},
   "outputs": [
    {
     "data": {
      "text/html": [
       "<div>\n",
       "<style scoped>\n",
       "    .dataframe tbody tr th:only-of-type {\n",
       "        vertical-align: middle;\n",
       "    }\n",
       "\n",
       "    .dataframe tbody tr th {\n",
       "        vertical-align: top;\n",
       "    }\n",
       "\n",
       "    .dataframe thead th {\n",
       "        text-align: right;\n",
       "    }\n",
       "</style>\n",
       "<table border=\"1\" class=\"dataframe\">\n",
       "  <thead>\n",
       "    <tr style=\"text-align: right;\">\n",
       "      <th></th>\n",
       "      <th>0</th>\n",
       "    </tr>\n",
       "  </thead>\n",
       "  <tbody>\n",
       "    <tr>\n",
       "      <th>Accuracy</th>\n",
       "      <td>0.816421</td>\n",
       "    </tr>\n",
       "    <tr>\n",
       "      <th>Precision</th>\n",
       "      <td>0.790544</td>\n",
       "    </tr>\n",
       "    <tr>\n",
       "      <th>Recall</th>\n",
       "      <td>0.961657</td>\n",
       "    </tr>\n",
       "    <tr>\n",
       "      <th>F1 Score</th>\n",
       "      <td>0.867746</td>\n",
       "    </tr>\n",
       "    <tr>\n",
       "      <th>ROC AUC</th>\n",
       "      <td>0.767357</td>\n",
       "    </tr>\n",
       "  </tbody>\n",
       "</table>\n",
       "</div>"
      ],
      "text/plain": [
       "                  0\n",
       "Accuracy   0.816421\n",
       "Precision  0.790544\n",
       "Recall     0.961657\n",
       "F1 Score   0.867746\n",
       "ROC AUC    0.767357"
      ]
     },
     "execution_count": 23,
     "metadata": {},
     "output_type": "execute_result"
    }
   ],
   "source": [
    "import src.evaluation as eval\n",
    "\n",
    "model_eval = pd.DataFrame.from_dict(eval.evaluate_model(y_test,y_pred), orient='index')\n",
    "model_eval"
   ]
  },
  {
   "cell_type": "markdown",
   "metadata": {},
   "source": [
    "## Create Kaggle submision"
   ]
  },
  {
   "cell_type": "code",
   "execution_count": 11,
   "metadata": {},
   "outputs": [
    {
     "name": "stderr",
     "output_type": "stream",
     "text": [
      "/Library/Frameworks/Python.framework/Versions/3.10/lib/python3.10/site-packages/catboost/core.py:1419: FutureWarning: iteritems is deprecated and will be removed in a future version. Use .items instead.\n",
      "  self._init_pool(data, label, cat_features, text_features, embedding_features, embedding_features_data, pairs, weight,\n"
     ]
    }
   ],
   "source": [
    "sub_X = utils.load_data('data/test.csv')\n",
    "\n",
    "for c in X_train.columns:\n",
    "    sub_X[c].fillna(filler[c],inplace=True)\n",
    "\n",
    "sub_y = pd.DataFrame(cat_model.predict_proba(sub_X[X_train.columns])[:,1], index=sub_X.patient_id,columns=['DiagPeriodL90D'])"
   ]
  },
  {
   "cell_type": "markdown",
   "metadata": {},
   "source": [
    "## Save results"
   ]
  },
  {
   "cell_type": "code",
   "execution_count": 28,
   "metadata": {},
   "outputs": [],
   "source": [
    "run_dir = utils.create_directory()\n",
    "\n",
    "X_train['DiagPeriodL90D'] = y_train\n",
    "X_test['DiagPeriodL90D'] = y_test\n",
    "X_train.to_csv(run_dir+'/training_data.csv')\n",
    "X_test.to_csv(run_dir+'/test_data.csv')\n",
    "sub_X.to_csv(run_dir+'/X_submission.csv')\n",
    "sub_y.to_csv(run_dir+'/submission.csv')\n",
    "model_eval.to_csv(run_dir+'/metrics.csv')\n",
    "\n",
    "utils.save_model_as_pickle(cat_model,run_dir+'/model.pickle')"
   ]
  },
  {
   "cell_type": "code",
   "execution_count": null,
   "metadata": {},
   "outputs": [],
   "source": []
  }
 ],
 "metadata": {
  "kernelspec": {
   "display_name": "Python 3",
   "language": "python",
   "name": "python3"
  },
  "language_info": {
   "codemirror_mode": {
    "name": "ipython",
    "version": 3
   },
   "file_extension": ".py",
   "mimetype": "text/x-python",
   "name": "python",
   "nbconvert_exporter": "python",
   "pygments_lexer": "ipython3",
   "version": "3.10.8"
  }
 },
 "nbformat": 4,
 "nbformat_minor": 2
}
